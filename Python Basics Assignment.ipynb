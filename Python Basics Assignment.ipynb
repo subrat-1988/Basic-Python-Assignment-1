{
 "cells": [
  {
   "cell_type": "code",
   "execution_count": null,
   "id": "d3e072da-f03b-467e-a5e0-96b2f6a9565b",
   "metadata": {},
   "outputs": [],
   "source": [
    "# Python Basic Assignment:"
   ]
  },
  {
   "cell_type": "code",
   "execution_count": null,
   "id": "06ccb132-994b-447e-b196-49ecae825971",
   "metadata": {},
   "outputs": [],
   "source": [
    "# 1. What is Python and why is it popular?\n",
    "\"\"\"\n",
    "--> Python is a high-level, interpreted programming language.\n",
    "--> Python is popular for its some features like easy to learn & readble for its simple syntax. \n",
    "--> Python supports object oriented  and functional programming paradisigm.\n",
    "--> Python has huge number of libraries for various applications.\n",
    "--> Python supports cross platform. Python runs on Windows, macOS, Linux and even mobile devices.\n",
    "\"\"\""
   ]
  },
  {
   "cell_type": "code",
   "execution_count": null,
   "id": "1d048986-abf6-469b-a4d3-9531a625989c",
   "metadata": {},
   "outputs": [],
   "source": [
    "# 2. What is an interpreter in Python?\n",
    "\"\"\"\n",
    "--> An interpreter in Python is a program that executes Python code line by line rather than compiling the entire code at once. \n",
    "--> This allows for immediate execution and debugging.\n",
    "--> Interpreter reads the python code and convert it to byte code. Executes the byte codes using python vertual machine.\n",
    "\"\"\""
   ]
  },
  {
   "cell_type": "code",
   "execution_count": null,
   "id": "d96aab7a-1ad6-4910-9ab8-3b76febc721b",
   "metadata": {},
   "outputs": [],
   "source": [
    "# 3. What are pre-defined keywords in Python?\n",
    "\"\"\"\n",
    "--> Pre-defined keywords in Python are reserved words that have special meanings in the language. \n",
    "--> These keywords cannot be used as variable names, function names or identifiers.\n",
    "--> Python has 35 inbuilt keywords and keywords are case sensitive. \n",
    "--> Some of keywords are True, False, None, if, elif, else, del, is,in,return,while,for,from,continue,class,or,import,break.\n",
    "\"\"\""
   ]
  },
  {
   "cell_type": "code",
   "execution_count": null,
   "id": "e6ca2a08-6f8b-44f1-9e2f-9276f1b44338",
   "metadata": {},
   "outputs": [],
   "source": [
    "# 4. Can keywords be used as variable names?\n",
    "\"\"\"\n",
    "--> We can not use python keywords as a variable names, function names or identifiers.\n",
    "--> Because keywords are reserved words in python and it has some special meanings. \n",
    "\"\"\""
   ]
  },
  {
   "cell_type": "code",
   "execution_count": null,
   "id": "2873d58f-e4f1-43f5-b677-ee72a40ea48d",
   "metadata": {},
   "outputs": [],
   "source": [
    "# 5. What is mutability in Python?\n",
    "\"\"\"\n",
    "--> Mutability in pythons means after creating a object, we can access the object's elements by indexwise and can change the value of the elements.\n",
    "--> List, dictionary and set are mutable.\n",
    "--> Tuple, string & frozenset are immutable.\n",
    "\"\"\""
   ]
  },
  {
   "cell_type": "code",
   "execution_count": null,
   "id": "d5709c52-b15f-4391-b8b4-6b396ea8de04",
   "metadata": {},
   "outputs": [],
   "source": [
    "# 6. Why are lists mutable, but tuples are immutable?\n",
    "\"\"\"\n",
    "--> Lists are mutable because they store references, allowing dynamic changes.\n",
    "--> Tuples are immutable because they store fixed values, making them faster and memory-efficient.\n",
    "\"\"\""
   ]
  },
  {
   "cell_type": "code",
   "execution_count": null,
   "id": "71868ac2-c924-420b-a2f3-75cb39b6cdd1",
   "metadata": {},
   "outputs": [],
   "source": [
    "# 7. What is the difference between “==” and “is” operators in Python?\n",
    "\"\"\"\n",
    "--> In Python, '==' and 'is' are different comparison operators used for different purposes.\n",
    "--> '==' compares values, while 'is' compares memory addresses.\n",
    "a = [1, 2, 3]\n",
    "b = a          # Both variables point to the same list\n",
    "print(a == b)  #  True (Same values)\n",
    "print(a is b)  #  True (Same memory location)\n",
    "\"\"\""
   ]
  },
  {
   "cell_type": "code",
   "execution_count": null,
   "id": "51971860-1d9d-4659-9655-e199271ea2a9",
   "metadata": {},
   "outputs": [],
   "source": [
    "# 8. What are logical operators in Python?\n",
    "\"\"\"\n",
    "--> Logical operators are used to combine multiple conditions and return a Boolean value (True or False). \n",
    "--> Python has three logical operators: and , or, not.\n",
    "--> and : returns True only if both conditions are true. If any condition is False, it returns false.\n",
    "--> or : returns True if at least one condition is true. Returns False only if both conditions are false.\n",
    "--> not : converts True → False and False → True.\n",
    "\"\"\""
   ]
  },
  {
   "cell_type": "code",
   "execution_count": null,
   "id": "051904da-5ed9-43ba-b703-db6a2259755a",
   "metadata": {},
   "outputs": [],
   "source": [
    "# 9. What is type casting in Python?\n",
    "\"\"\"\n",
    "--> Type casting also called type conversion is the process of converting one data type into another data type.\n",
    "--> Python provides two types of type casting: Implicit Type Casting, means python converts automatically & Explicit Type Casting, means manually converting by using a function.\n",
    "--> Implicit Type Casting-Integer to Float Conversion:\n",
    "    a = 5       # Integer\n",
    "    b = 2.5     # Float\n",
    "    result = a + b  \n",
    "    print(result)  # Output: 7.5 (Converted to float)\n",
    "    print(type(result))  # Output: <class 'float'>\n",
    "    \n",
    "--> Explicit Type Casting- Convert String to Integer (int())\n",
    "    num_str = \"100\"\n",
    "    num_int = int(num_str)  \n",
    "    print(num_int)  # Output: 100 (Converted to integer)\n",
    "    print(type(num_int))  # Output: <class 'int'>\n",
    "\"\"\""
   ]
  },
  {
   "cell_type": "code",
   "execution_count": null,
   "id": "0e065d5c-f75a-41cc-acfd-a09ecbfa95eb",
   "metadata": {},
   "outputs": [],
   "source": [
    "# 10. What is the difference between implicit and explicit type casting?\n",
    "\"\"\"\n",
    "--> Implicit type casting: Python automatically converts one data type into another data type without user intervention.       \n",
    "--> Explicit type casting: The user manually converts one data type into another data type using built-in functions.\n",
    "--> Implicit Type Casting-Integer to Float Conversion:\n",
    "    a = 5       # Integer\n",
    "    b = 2.5     # Float\n",
    "    result = a + b  \n",
    "    print(result)  # Output: 7.5 (Converted to float)\n",
    "    print(type(result))  # Output: <class 'float'>\n",
    "    \n",
    "--> Explicit Type Casting- Convert String to Integer (int())\n",
    "    num_str = \"100\"\n",
    "    num_int = int(num_str)  \n",
    "    print(num_int)  # Output: 100 (Converted to integer)\n",
    "    print(type(num_int))  # Output: <class 'int'>\n",
    "\n",
    "\"\"\""
   ]
  },
  {
   "cell_type": "code",
   "execution_count": null,
   "id": "7fdee46e-8569-4f36-be0d-48583c84e67d",
   "metadata": {},
   "outputs": [],
   "source": [
    "# 11. What is the purpose of conditional statements in Python?\n",
    "\"\"\"\n",
    "--> Conditional statements in Python control the flow of execution of the codes or programmes based on certain conditions. \n",
    "--> They allow a program to make decisions and execute specific blocks of code when certain conditions are met.\n",
    "--> For single and multiple conditions checking in a program we are using conditional statements likes if, if-else, if-elif-else, nested if-else.\n",
    "\"\"\""
   ]
  },
  {
   "cell_type": "code",
   "execution_count": null,
   "id": "7d20f390-3405-4712-b98b-60a053f39ea9",
   "metadata": {},
   "outputs": [],
   "source": [
    "# 12. How does the elif statement work?\n",
    "\"\"\"\n",
    "--> elif allows checking multiple conditions.\n",
    "--> Only the first True condition executes, then it exits.\n",
    "--> If none of the if or elif conditions are True, the else block executes.\n",
    "\n",
    "    temperature = 25\n",
    "    if temperature > 30:\n",
    "        print(\"It's hot outside.\")\n",
    "    elif temperature > 20:\n",
    "        print(\"It's warm outside.\")  # This block runs\n",
    "    elif temperature > 10:\n",
    "        print(\"It's cool outside.\")\n",
    "    else:\n",
    "        print(\"It's cold outside.\")\n",
    "\"\"\""
   ]
  },
  {
   "cell_type": "code",
   "execution_count": null,
   "id": "2101eb6c-a774-4396-9907-e90e6261a59c",
   "metadata": {},
   "outputs": [],
   "source": [
    "# 13. What is the difference between for and while loops?\n",
    "\"\"\"\n",
    "--> Loops in Python allow a block of code to execute multiple times. \n",
    "--> The two main types of loops are: for & while loop.\n",
    "--> for loop: used when the number of iterations is known.\n",
    "--> while loop: used when the number of iterations is unknown and depends on a condition.\n",
    "    for loop:\n",
    "    for i in range(1, 6):  \n",
    "        print(i) \n",
    "\n",
    "    while loop:\n",
    "    num = 1\n",
    "    while num <= 5:\n",
    "        print(num)\n",
    "        num += 1\n",
    "\"\"\""
   ]
  },
  {
   "cell_type": "code",
   "execution_count": null,
   "id": "edfc6d8a-1a5a-4d7d-b02e-13cce8f68a68",
   "metadata": {},
   "outputs": [],
   "source": [
    "# 14. Describe a scenario where a while loop is more suitable than a for loop.\n",
    "\"\"\"\n",
    "-->  User login system:\n",
    "--> We don’t know how many attempts the user will take.\n",
    "--> The loop should run until the user enters the correct password.\n",
    "--> A for loop is not ideal because the number of iterations is unknown.\n",
    "    correct_password = \"Python123\"\n",
    "    user_password = \"\"\n",
    "\n",
    "    while user_password != correct_password:  \n",
    "        user_password = input(\"Enter your password: \")\n",
    "\n",
    "    print(\"Access Granted!\")\n",
    "\n",
    "--> The loop keeps running until the user enters \"Python123\".\n",
    "--> If the password is incorrect, the loop repeats and asks again.\n",
    "--> Once the correct password is entered, the loop stops, and \"Access Granted!\" is displayed.\n",
    "\n",
    "\"\"\""
   ]
  },
  {
   "cell_type": "code",
   "execution_count": null,
   "id": "476ea43e-25a4-4235-814f-f7ec97aebaa0",
   "metadata": {},
   "outputs": [],
   "source": [
    "#Practical Questions:"
   ]
  },
  {
   "cell_type": "code",
   "execution_count": 1,
   "id": "5d3d9288-1e71-4031-b7ba-adab3a4ae0f9",
   "metadata": {},
   "outputs": [
    {
     "name": "stdout",
     "output_type": "stream",
     "text": [
      "Hello, World!\n"
     ]
    }
   ],
   "source": [
    "# 1. Write a Python program to print \"Hello, World!\"\n",
    "\n",
    "print(\"Hello, World!\")"
   ]
  },
  {
   "cell_type": "code",
   "execution_count": 2,
   "id": "a1f64fc3-fa6c-4a80-9af2-6972b2ac530c",
   "metadata": {},
   "outputs": [
    {
     "name": "stdout",
     "output_type": "stream",
     "text": [
      "My name is Subrat K. Das\n",
      "I am 35 years old\n"
     ]
    }
   ],
   "source": [
    "# 2. Write a Python program that displays your name and age.\n",
    "\n",
    "name = \"Subrat K. Das\"   \n",
    "age = 35            \n",
    "print(\"My name is\", name)\n",
    "print(\"I am\", age, \"years old\")"
   ]
  },
  {
   "cell_type": "code",
   "execution_count": 3,
   "id": "5330674e-df47-4db3-ae6c-80686e5e6738",
   "metadata": {},
   "outputs": [
    {
     "name": "stdout",
     "output_type": "stream",
     "text": [
      "Python Keywords:\n",
      "['False', 'None', 'True', 'and', 'as', 'assert', 'async', 'await', 'break', 'class', 'continue', 'def', 'del', 'elif', 'else', 'except', 'finally', 'for', 'from', 'global', 'if', 'import', 'in', 'is', 'lambda', 'nonlocal', 'not', 'or', 'pass', 'raise', 'return', 'try', 'while', 'with', 'yield']\n"
     ]
    }
   ],
   "source": [
    "# 3. Write code to print all the pre-defined keywords in Python using the keyword library.\n",
    "\n",
    "import keyword\n",
    "print(\"Python Keywords:\")\n",
    "print(keyword.kwlist)"
   ]
  },
  {
   "cell_type": "code",
   "execution_count": 7,
   "id": "0f83299e-654e-4d95-8dbc-a5c7f096c761",
   "metadata": {},
   "outputs": [
    {
     "name": "stdin",
     "output_type": "stream",
     "text": [
      "Enter a word:  if\n"
     ]
    },
    {
     "name": "stdout",
     "output_type": "stream",
     "text": [
      "'if' is a Python keyword.\n"
     ]
    }
   ],
   "source": [
    "# 4. Write a program that checks if a given word is a Python keyword.\n",
    "\n",
    "import keyword\n",
    "word = input(\"Enter a word: \")\n",
    "if keyword.iskeyword(word):\n",
    "    print(f\"'{word}' is a Python keyword.\")\n",
    "else:\n",
    "    print(f\"'{word}' is NOT a Python keyword.\")"
   ]
  },
  {
   "cell_type": "code",
   "execution_count": 5,
   "id": "3af83faa-f29e-44c2-a3bd-91fccae4b89a",
   "metadata": {},
   "outputs": [
    {
     "name": "stdout",
     "output_type": "stream",
     "text": [
      "Original list: [1, 2, 3, 4]\n",
      "Modified list: [25, 2, 3, 4]\n",
      "Original tuple (1, 2, 3, 4)\n"
     ]
    },
    {
     "ename": "TypeError",
     "evalue": "'tuple' object does not support item assignment",
     "output_type": "error",
     "traceback": [
      "\u001b[1;31m---------------------------------------------------------------------------\u001b[0m",
      "\u001b[1;31mTypeError\u001b[0m                                 Traceback (most recent call last)",
      "Cell \u001b[1;32mIn[5], line 11\u001b[0m\n\u001b[0;32m      9\u001b[0m my_tuple \u001b[38;5;241m=\u001b[39m (\u001b[38;5;241m1\u001b[39m,\u001b[38;5;241m2\u001b[39m,\u001b[38;5;241m3\u001b[39m,\u001b[38;5;241m4\u001b[39m)\n\u001b[0;32m     10\u001b[0m \u001b[38;5;28mprint\u001b[39m(\u001b[38;5;124m\"\u001b[39m\u001b[38;5;124mOriginal tuple\u001b[39m\u001b[38;5;124m\"\u001b[39m,my_tuple)\n\u001b[1;32m---> 11\u001b[0m \u001b[43mmy_tuple\u001b[49m\u001b[43m[\u001b[49m\u001b[38;5;241;43m0\u001b[39;49m\u001b[43m]\u001b[49m \u001b[38;5;241m=\u001b[39m \u001b[38;5;241m35\u001b[39m\n\u001b[0;32m     12\u001b[0m \u001b[38;5;28mprint\u001b[39m(\u001b[38;5;124m\"\u001b[39m\u001b[38;5;124mTuple\u001b[39m\u001b[38;5;124m'\u001b[39m\u001b[38;5;124m object does not support item assignment\u001b[39m\u001b[38;5;124m\"\u001b[39m,my_tuple)\n",
      "\u001b[1;31mTypeError\u001b[0m: 'tuple' object does not support item assignment"
     ]
    }
   ],
   "source": [
    "# 5. Create a list and tuple in Python, and demonstrate how attempting to change an element works differently for each.\n",
    "#List: mutable\n",
    "my_list = [1,2,3,4]\n",
    "print(\"Original list:\",my_list)\n",
    "my_list[0] = 25\n",
    "print(\"Modified list:\",my_list)\n",
    "\n",
    "#Tuple:immutable-throwing an error\n",
    "my_tuple = (1,2,3,4)\n",
    "print(\"Original tuple\",my_tuple)\n",
    "my_tuple[0] = 35\n",
    "print(\"Tuple' object does not support item assignment\",my_tuple)"
   ]
  },
  {
   "cell_type": "code",
   "execution_count": null,
   "id": "0c01d7dc-75c7-4512-b01c-bbf366acd171",
   "metadata": {},
   "outputs": [],
   "source": [
    "# 6. Write a function to demonstrate the behavior of mutable and immutable arguments."
   ]
  },
  {
   "cell_type": "code",
   "execution_count": null,
   "id": "25807fc7-c27c-4fcd-9d15-847628f744de",
   "metadata": {},
   "outputs": [],
   "source": [
    "# 7. Write a function to demonstrate the behavior of mutable and immutable arguments."
   ]
  },
  {
   "cell_type": "code",
   "execution_count": 6,
   "id": "a8972416-7731-4100-8822-b5a2130e47c8",
   "metadata": {},
   "outputs": [
    {
     "name": "stdout",
     "output_type": "stream",
     "text": [
      "Values: a = 5, b = -3\n",
      "a > 0 and b > 0: False\n",
      "a > 0 or b > 0: True\n",
      "not(a > 0): False\n"
     ]
    }
   ],
   "source": [
    "# 8. Write a program to demonstrate the use of logical operators.\n",
    "\n",
    "# Assigning values\n",
    "a = 5\n",
    "b = -3\n",
    "\n",
    "# Displaying values\n",
    "print(f\"Values: a = {a}, b = {b}\")\n",
    "\n",
    "# Logical AND\n",
    "result_and = (a > 0) and (b > 0)\n",
    "print(\"a > 0 and b > 0:\", result_and)  # True if both are positive\n",
    "\n",
    "# Logical OR\n",
    "result_or = (a > 0) or (b > 0)\n",
    "print(\"a > 0 or b > 0:\", result_or)  # True if at least one is positive\n",
    "\n",
    "# Logical NOT\n",
    "result_not = not (a > 0)\n",
    "print(\"not(a > 0):\", result_not)  # True if 'a' is not positive"
   ]
  },
  {
   "cell_type": "code",
   "execution_count": 62,
   "id": "108e9dfb-5032-4bc3-ac51-b1230ab55070",
   "metadata": {},
   "outputs": [
    {
     "name": "stdin",
     "output_type": "stream",
     "text": [
      "Enter a value:  12\n"
     ]
    },
    {
     "name": "stdout",
     "output_type": "stream",
     "text": [
      "<class 'str'>\n",
      "Integer conversion: 12\n",
      "<class 'int'>\n",
      "Float conversion: 12.0\n",
      "<class 'float'>\n",
      "Boolean conversion: True\n",
      "<class 'bool'>\n"
     ]
    }
   ],
   "source": [
    "# 9. Write a Python program to convert user input from string to integer, float, and boolean types.\n",
    "\n",
    "user_input = input(\"Enter a value: \")\n",
    "print(type(user_input))\n",
    "\n",
    "# Integer converion:\n",
    "int_value = int(user_input)\n",
    "print(\"Integer conversion:\", int_value)\n",
    "print(type(int_value))\n",
    "\n",
    "# float converion:\n",
    "float_value = float(user_input)\n",
    "print(\"Float conversion:\", float_value)\n",
    "print(type(float_value))\n",
    "\n",
    "# boolean converion:\n",
    "bool_value = bool(user_input)  # Empty string -> False, any non-empty string -> True\n",
    "print(\"Boolean conversion:\", bool_value)\n",
    "print(type(bool_value))"
   ]
  },
  {
   "cell_type": "code",
   "execution_count": 59,
   "id": "d7602ae7-b4fb-4673-a2d6-76b837b502cd",
   "metadata": {},
   "outputs": [
    {
     "name": "stdout",
     "output_type": "stream",
     "text": [
      "Integer List: [10, 20, 30, 40]\n",
      "Float List: [10.0, 20.0, 30.5, 40.7]\n"
     ]
    }
   ],
   "source": [
    "# 10. Write code to demonstrate type casting with list elements.\n",
    "\n",
    "str_list = [\"10\", \"20\", \"30.5\", \"40.7\"]\n",
    "\n",
    "# Convert to integers\n",
    "int_list = [int(float(num)) for num in str_list]  # Convert to float first, then int\n",
    "print(\"Integer List:\", int_list)\n",
    "\n",
    "# Convert to floats\n",
    "float_list = [float(num) for num in str_list]\n",
    "print(\"Float List:\", float_list)\n"
   ]
  },
  {
   "cell_type": "code",
   "execution_count": 47,
   "id": "6eca69b3-28a9-43a7-b139-b2a4b3095a1e",
   "metadata": {},
   "outputs": [
    {
     "name": "stdin",
     "output_type": "stream",
     "text": [
      "Enter a number:  -8\n"
     ]
    },
    {
     "name": "stdout",
     "output_type": "stream",
     "text": [
      "The number is Negative.\n"
     ]
    }
   ],
   "source": [
    "# 11. Write a program that checks if a number is positive, negative, or zero.\n",
    "\n",
    "num = int(input(\"Enter a number: \"))\n",
    "\n",
    "if num > 0:\n",
    "    print(\"The number is Positive.\")\n",
    "elif num < 0:\n",
    "    print(\"The number is Negative.\")\n",
    "else:\n",
    "    print(\"The number is Zero.\")"
   ]
  },
  {
   "cell_type": "code",
   "execution_count": 48,
   "id": "ad0da8ed-114c-409a-acb4-c71e23ba2cdf",
   "metadata": {},
   "outputs": [
    {
     "name": "stdout",
     "output_type": "stream",
     "text": [
      "1\n",
      "2\n",
      "3\n",
      "4\n",
      "5\n",
      "6\n",
      "7\n",
      "8\n",
      "9\n",
      "10\n"
     ]
    }
   ],
   "source": [
    "# 12. Write a for loop to print numbers from 1 to 10.\n",
    "\n",
    "for num in range(1, 11):  # range(start, stop) where stop is exclusive\n",
    "    print(num)"
   ]
  },
  {
   "cell_type": "code",
   "execution_count": 49,
   "id": "3156d019-7e63-40c8-90a5-cb8d4bbacfaf",
   "metadata": {},
   "outputs": [
    {
     "name": "stdout",
     "output_type": "stream",
     "text": [
      "Sum of all even numbers between 1 and 50: 650\n"
     ]
    }
   ],
   "source": [
    "# 13. Write a Python program to find the sum of all even numbers between 1 and 50.\n",
    "\n",
    "# Initialize sum variable\n",
    "even_sum = 0\n",
    "\n",
    "# Loop through even numbers from 2 to 50\n",
    "for num in range(2, 51, 2):  # Step of 2 to get even numbers\n",
    "    even_sum += num\n",
    "\n",
    "# Print the result\n",
    "print(\"Sum of all even numbers between 1 and 50:\", even_sum)"
   ]
  },
  {
   "cell_type": "code",
   "execution_count": 61,
   "id": "89cbe35c-06db-43e9-9bf6-813c9c495a9d",
   "metadata": {},
   "outputs": [
    {
     "name": "stdin",
     "output_type": "stream",
     "text": [
      "Enter a string:  subrat\n"
     ]
    },
    {
     "name": "stdout",
     "output_type": "stream",
     "text": [
      "Reversed string: tarbus\n"
     ]
    }
   ],
   "source": [
    "# 14. Write a program to reverse a string using a while loop.\n",
    "\n",
    "text = input(\"Enter a string: \")\n",
    "\n",
    "# Initialize variables\n",
    "reversed_text = \"\"\n",
    "i = len(text) - 1  # Start from the last index\n",
    "\n",
    "# While loop to reverse the string\n",
    "while i >= 0:\n",
    "    reversed_text += text[i]  # Add characters in reverse order\n",
    "    i -= 1  # Move to the previous character\n",
    "print(\"Reversed string:\", reversed_text)"
   ]
  },
  {
   "cell_type": "code",
   "execution_count": 55,
   "id": "c2465e60-bf46-4584-9bcd-015c1f207074",
   "metadata": {},
   "outputs": [
    {
     "name": "stdin",
     "output_type": "stream",
     "text": [
      "Enter a number:  5\n"
     ]
    },
    {
     "name": "stdout",
     "output_type": "stream",
     "text": [
      "Factorial of 5 is 120\n"
     ]
    }
   ],
   "source": [
    "# 15. Write a Python program to calculate the factorial of a number provided by the user using a while loop.\n",
    "# factorial formula: n!=n×(n−1)×(n−2)×...×2×1\n",
    "\n",
    "num = int(input(\"Enter a number: \"))\n",
    "\n",
    "# Initialize factorial variable\n",
    "factorial = 1\n",
    " \n",
    "# Ensure the number is non-negative\n",
    "if num < 0:\n",
    "    print(\"Factorial is not defined for negative numbers.\")\n",
    "else:\n",
    "    i = num     # Start from the given number\n",
    "    while i > 0:\n",
    "        factorial *= i     # Multiply the current number\n",
    "        i -= 1  # Decrease the number by 1\n",
    "    print(f\"Factorial of {num} is {factorial}\")"
   ]
  },
  {
   "cell_type": "code",
   "execution_count": null,
   "id": "862bbaf1-2c35-4329-bb98-0a7786b8f2e6",
   "metadata": {},
   "outputs": [],
   "source": []
  }
 ],
 "metadata": {
  "kernelspec": {
   "display_name": "Python 3 (ipykernel)",
   "language": "python",
   "name": "python3"
  },
  "language_info": {
   "codemirror_mode": {
    "name": "ipython",
    "version": 3
   },
   "file_extension": ".py",
   "mimetype": "text/x-python",
   "name": "python",
   "nbconvert_exporter": "python",
   "pygments_lexer": "ipython3",
   "version": "3.13.1"
  }
 },
 "nbformat": 4,
 "nbformat_minor": 5
}
